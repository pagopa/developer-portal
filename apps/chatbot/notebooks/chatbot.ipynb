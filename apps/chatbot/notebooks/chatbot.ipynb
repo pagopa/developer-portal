{
 "cells": [
  {
   "cell_type": "code",
   "execution_count": null,
   "metadata": {},
   "outputs": [],
   "source": [
    "%load_ext autoreload\n",
    "%autoreload 2"
   ]
  },
  {
   "cell_type": "code",
   "execution_count": null,
   "metadata": {},
   "outputs": [],
   "source": [
    "import os\n",
    "import sys\n",
    "import yaml\n",
    "import logging\n",
    "from uuid import uuid4\n",
    "\n",
    "logging.basicConfig(level=logging.INFO)\n",
    "workdir = os.path.abspath(os.path.join(os.getcwd(), \"..\"))\n",
    "sys.path.append(workdir)\n",
    "\n",
    "from src.modules.chatbot import Chatbot\n",
    "\n",
    "session_id = str(uuid4())\n",
    "user_id = \"user-test\"\n",
    "\n",
    "logging.info(f\"Using as working directory: {workdir}\")\n",
    "logging.info(f\"Using as session_id: {session_id}\")\n",
    "logging.info(f\"Using as user_id: {user_id}\")"
   ]
  },
  {
   "cell_type": "markdown",
   "metadata": {},
   "source": [
    "## Initialize Discovery"
   ]
  },
  {
   "cell_type": "code",
   "execution_count": null,
   "metadata": {},
   "outputs": [],
   "source": [
    "params = yaml.safe_load(open(os.path.join(workdir, \"config\", \"params.yaml\"), \"r\"))\n",
    "prompts = yaml.safe_load(open(os.path.join(workdir, \"config\", \"prompts.yaml\"), \"r\"))\n",
    "bot = Chatbot(params, prompts)"
   ]
  },
  {
   "cell_type": "markdown",
   "metadata": {},
   "source": [
    "## Ask a Query to the Discovery"
   ]
  },
  {
   "cell_type": "code",
   "execution_count": null,
   "metadata": {},
   "outputs": [],
   "source": [
    "query_str = \"cosa significa SEND?\"\n",
    "trace_id = str(uuid4())\n",
    "\n",
    "response_json = bot.chat_generate(query_str=query_str, trace_id=trace_id)\n",
    "response_json"
   ]
  },
  {
   "cell_type": "code",
   "execution_count": null,
   "metadata": {},
   "outputs": [],
   "source": [
    "response_str = bot.get_final_response(response_json)\n",
    "print(response_str)"
   ]
  },
  {
   "cell_type": "markdown",
   "metadata": {},
   "source": [
    "## Make an Evaluation"
   ]
  },
  {
   "cell_type": "code",
   "execution_count": null,
   "metadata": {},
   "outputs": [],
   "source": [
    "scores = bot.evaluate(query_str, response_json[\"response\"], response_json[\"contexts\"], trace_id)\n",
    "scores"
   ]
  }
 ],
 "metadata": {
  "kernelspec": {
   "display_name": "chatbot3",
   "language": "python",
   "name": "python3"
  },
  "language_info": {
   "codemirror_mode": {
    "name": "ipython",
    "version": 3
   },
   "file_extension": ".py",
   "mimetype": "text/x-python",
   "name": "python",
   "nbconvert_exporter": "python",
   "pygments_lexer": "ipython3",
   "version": "3.12.4"
  }
 },
 "nbformat": 4,
 "nbformat_minor": 2
}
