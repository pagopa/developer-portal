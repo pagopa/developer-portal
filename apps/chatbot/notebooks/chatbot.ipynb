{
 "cells": [
  {
   "cell_type": "code",
   "execution_count": null,
   "metadata": {},
   "outputs": [],
   "source": [
    "%load_ext autoreload\n",
    "%autoreload 2"
   ]
  },
  {
   "cell_type": "code",
   "execution_count": null,
   "metadata": {},
   "outputs": [],
   "source": [
    "import os\n",
    "import sys\n",
    "import logging\n",
    "from uuid import uuid4\n",
    "import nest_asyncio\n",
    "\n",
    "logging.basicConfig(level=logging.INFO)\n",
    "workdir = os.path.abspath(os.path.join(os.getcwd(), \"..\"))\n",
    "sys.path.append(workdir)\n",
    "\n",
    "from src.modules.chatbot import Chatbot\n",
    "\n",
    "nest_asyncio.apply()\n",
    "session_id = str(uuid4())\n",
    "user_id = \"user-test\"\n",
    "\n",
    "logging.info(f\"Using as working directory: {workdir}\")\n",
    "logging.info(f\"Using as session_id: {session_id}\")\n",
    "logging.info(f\"Using as user_id: {user_id}\")"
   ]
  },
  {
   "cell_type": "markdown",
   "metadata": {},
   "source": [
    "## Initialize Discovery"
   ]
  },
  {
   "cell_type": "code",
   "execution_count": null,
   "metadata": {},
   "outputs": [],
   "source": [
    "bot = Chatbot()"
   ]
  },
  {
   "cell_type": "markdown",
   "metadata": {},
   "source": [
    "## Ask a Query to the Discovery"
   ]
  },
  {
   "cell_type": "code",
   "execution_count": null,
   "metadata": {},
   "outputs": [],
   "source": [
    "query_str = \"ciao, chi sei? cosa significa SEND?\"\n",
    "trace_id = str(uuid4())\n",
    "\n",
    "response_json = await bot.chat_generate(query_str=query_str, trace_id=trace_id)"
   ]
  },
  {
   "cell_type": "code",
   "execution_count": null,
   "metadata": {},
   "outputs": [],
   "source": [
    "print(f\"Response: {response_json[\"response\"]}\")\n",
    "print(f\"\\nProducts: {response_json[\"products\"]}\")\n",
    "print(f\"\\nReferences: {response_json[\"references\"]}\")"
   ]
  }
 ],
 "metadata": {
  "kernelspec": {
   "display_name": "chatbot",
   "language": "python",
   "name": "python3"
  },
  "language_info": {
   "codemirror_mode": {
    "name": "ipython",
    "version": 3
   },
   "file_extension": ".py",
   "mimetype": "text/x-python",
   "name": "python",
   "nbconvert_exporter": "python",
   "pygments_lexer": "ipython3",
   "version": "3.12.9"
  }
 },
 "nbformat": 4,
 "nbformat_minor": 2
}
